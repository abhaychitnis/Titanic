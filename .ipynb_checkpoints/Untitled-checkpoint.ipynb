{
 "cells": [
  {
   "cell_type": "code",
   "execution_count": null,
   "metadata": {},
   "outputs": [],
   "source": [
    "import numpy as np\n",
    "import matplotlib.pyplot as plt\n",
    "import pandas as pd\n",
    "import common_functions as cm\n",
    "\n",
    "\n",
    "# Importing the dataset\n",
    "#dataset_complete = pd.read_csv('train.csv')\n",
    "preprocessing_override = pd.read_csv('preprocessing_override.csv')\n",
    "\n",
    "dataset_X = pd.read_csv('train.csv')\n",
    "dataset_y = dataset_X['Survived']\n",
    "\n",
    "dataset_X_verify = pd.read_csv('test.csv')\n",
    "\n",
    "del dataset_X['Survived']\n",
    "del preprocessing_override['Survived']\n",
    "\n",
    "preprocess_list = cm.preprocess_ind(dataset_X, preprocessing_override)"
   ]
  },
  {
   "cell_type": "code",
   "execution_count": null,
   "metadata": {
    "collapsed": true
   },
   "outputs": [],
   "source": [
    "category_encoding_columns = preprocess_list[0]\n",
    "missing_values_strategy = preprocess_list[1]\n",
    "drop_strategy_columns = preprocess_list[2]\n",
    "normalize_strategy_columns = preprocess_list[3]\n",
    "\n",
    "\n",
    "y = dataset_y.iloc[:].values\n",
    "X = dataset_X.iloc[:, :].values\n",
    "X_verify = dataset_X_verify.iloc[:, :].values\n"
   ]
  },
  {
   "cell_type": "code",
   "execution_count": null,
   "metadata": {
    "collapsed": true
   },
   "outputs": [],
   "source": [
    "# Taking care of missing data by dropping the rows\n",
    "\n",
    "missing_columns_drop_rows = list(np.where(np.array(missing_values_strategy) == missing_values_drop_rows))[0]\n",
    "\n",
    "for i in missing_columns_drop_rows:\n",
    "    indices_of_empty_rows = np.where((pd.isnull(X[:,i]) == True))[0]\n",
    "    \n",
    "    X = np.delete(X, indices_of_empty_rows , axis=0)\n",
    "    y = np.delete(y, indices_of_empty_rows , axis=0)\n",
    "\n",
    "# Taking care of missing data by filling with mean values\n",
    "\n",
    "missing_columns_tobe_filled_with_mean = list(np.where(np.array(missing_values_strategy) == missing_values_fill_mean))[0]\n",
    "\n",
    "from sklearn.preprocessing import Imputer\n",
    "imputer = Imputer(missing_values = 'NaN', strategy = 'mean', axis = 0)\n",
    "\n",
    "for i in missing_columns_tobe_filled_with_mean:\n",
    "    imputer = imputer.fit(X[:, i:i+1])\n",
    "    X[:, i:i+1] = imputer.transform(X[:, i:i+1])"
   ]
  },
  {
   "cell_type": "code",
   "execution_count": null,
   "metadata": {},
   "outputs": [],
   "source": [
    "# For numeric columns, scale the values appropriately\n",
    "print (normalize_strategy_columns)\n",
    "from sklearn.preprocessing import StandardScaler\n",
    "sc_X = StandardScaler()\n",
    "for i in normalize_strategy_columns:\n",
    "    X[:, [i]] = sc_X.fit_transform(X[:, i].reshape(-1, 1))\n"
   ]
  },
  {
   "cell_type": "code",
   "execution_count": null,
   "metadata": {
    "collapsed": true
   },
   "outputs": [],
   "source": [
    "# For unique string column that can be cosidered as classification, convert into classification encoding using onecode\n",
    "\n",
    "if not (not category_encoding_columns):\n",
    "    from sklearn.preprocessing import LabelEncoder, OneHotEncoder\n",
    "    labelencoder_X = LabelEncoder()\n",
    "\n",
    "    for i in (category_encoding_columns):\n",
    "        X[:, i] = labelencoder_X.fit_transform(X[:, i])\n",
    "        \n",
    "\n",
    "    X_extract = X[:,category_encoding_columns]\n",
    "    onehotencoder = OneHotEncoder(categorical_features = 'all')    \n",
    "    X_extract_encoded = onehotencoder.fit_transform(X_extract).toarray()\n",
    "\n",
    "X = np.delete(X, category_encoding_columns+drop_strategy_columns , axis=1)\n",
    "    \n",
    "X = np.c_[X, X_extract_encoded]\n",
    "    "
   ]
  },
  {
   "cell_type": "code",
   "execution_count": null,
   "metadata": {
    "collapsed": true
   },
   "outputs": [],
   "source": [
    "X_verify_drop_rows = np.where((pd.isnull(X_verify[:,i]) == True))[0]\n",
    "if (X_verify_drop_rows.any()):\n",
    "    X_verify = np.delete(X_verify, X_verify_drop_rows , axis=0)\n",
    "    X_verify[:,i] = labelencoder_X.transform(X_verify[:, i])\n",
    "\n",
    "X_verify_extract = X_verify[:,category_encoding_columns]\n",
    "X_verify_extract_encoded = onehotencoder.fit_transform(X_verify_extract).toarray()\n",
    "X_verify = np.delete(X_verify, category_encoding_columns , axis=1)\n",
    "\n",
    "X_verify = np.c_[X_verify, X_verify_extract_encoded]\n",
    "\n",
    "X_verify = np.delete(X_verify, drop_strategy_columns , axis=1)\n"
   ]
  },
  {
   "cell_type": "code",
   "execution_count": null,
   "metadata": {},
   "outputs": [],
   "source": [
    "print (X[0:2,:])\n"
   ]
  },
  {
   "cell_type": "code",
   "execution_count": 1,
   "metadata": {},
   "outputs": [
    {
     "name": "stdout",
     "output_type": "stream",
     "text": [
      "[[-0.5896198553348734 0.4313502389523841 -0.4743258521037861\n",
      "  -0.5002397510893574 0.0 0.0 1.0 0.0 1.0 0.0 0.0 1.0]\n",
      " [0.644847987422268 0.4313502389523841 -0.4743258521037861\n",
      "  0.788946607905507 1.0 0.0 0.0 1.0 0.0 1.0 0.0 0.0]\n",
      " [-0.28100289464558803 -0.4751990812099552 -0.4743258521037861\n",
      "  -0.48664993466069395 0.0 0.0 1.0 1.0 0.0 0.0 0.0 1.0]]\n"
     ]
    },
    {
     "name": "stderr",
     "output_type": "stream",
     "text": [
      "c:\\users\\abhay\\environments\\mludemy\\lib\\site-packages\\sklearn\\utils\\validation.py:429: DataConversionWarning: Data with input dtype object was converted to float64 by StandardScaler.\n",
      "  warnings.warn(msg, _DataConversionWarning)\n"
     ]
    }
   ],
   "source": [
    "# Importing the libraries\n",
    "import numpy as np\n",
    "import matplotlib.pyplot as plt\n",
    "import pandas as pd\n",
    "\n",
    "\n",
    "preprocessing_override = pd.read_csv('preprocessing_override.csv')\n",
    "\n",
    "dataset_X = pd.read_csv('train.csv')\n",
    "dataset_y = dataset_X['Survived']\n",
    "\n",
    "dataset_X_verify = pd.read_csv('test.csv')\n",
    "\n",
    "del dataset_X['Survived']\n",
    "del preprocessing_override['Survived']\n",
    "\n",
    "import preprocess_data as prd\n",
    "\n",
    "preprocessed_data = prd.preprocess_data(dataset_X, dataset_y, preprocessing_override, dataset_X_verify)\n",
    "\n",
    "print (preprocessed_data[\"X\"][0:3,:])\n"
   ]
  },
  {
   "cell_type": "code",
   "execution_count": null,
   "metadata": {
    "collapsed": true
   },
   "outputs": [],
   "source": []
  }
 ],
 "metadata": {
  "kernelspec": {
   "display_name": "Python 3",
   "language": "python",
   "name": "python3"
  },
  "language_info": {
   "codemirror_mode": {
    "name": "ipython",
    "version": 3
   },
   "file_extension": ".py",
   "mimetype": "text/x-python",
   "name": "python",
   "nbconvert_exporter": "python",
   "pygments_lexer": "ipython3",
   "version": "3.6.0"
  }
 },
 "nbformat": 4,
 "nbformat_minor": 2
}

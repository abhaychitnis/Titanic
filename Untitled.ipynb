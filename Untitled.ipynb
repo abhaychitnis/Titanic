{
 "cells": [
  {
   "cell_type": "code",
   "execution_count": null,
   "metadata": {
    "collapsed": true
   },
   "outputs": [],
   "source": [
    "#X_verify_drop_rows = np.where((pd.isnull(X_verify[:,i]) == True))[0]\n",
    "#if (X_verify_drop_rows.any()):\n",
    "#    X_verify = np.delete(X_verify, X_verify_drop_rows , axis=0)\n",
    "#    X_verify[:,i] = labelencoder_X.transform(X_verify[:, i])\n",
    "\n",
    "#X_verify_extract = X_verify[:,category_encoding_columns]\n",
    "#X_verify_extract_encoded = onehotencoder.fit_transform(X_verify_extract).toarray()\n",
    "#X_verify = np.delete(X_verify, category_encoding_columns , axis=1)\n",
    "\n",
    "#X_verify = np.c_[X_verify, X_verify_extract_encoded]\n",
    "\n",
    "#X_verify = np.delete(X_verify, drop_strategy_columns , axis=1)\n"
   ]
  },
  {
   "cell_type": "code",
   "execution_count": 34,
   "metadata": {},
   "outputs": [
    {
     "name": "stdout",
     "output_type": "stream",
     "text": [
      "1 4 6 8 10\n",
      "1 4 6 8 11\n",
      "1 4 6 9 10\n",
      "1 4 6 9 11\n",
      "1 4 7 8 10\n",
      "1 4 7 8 11\n",
      "1 4 7 9 10\n",
      "1 4 7 9 11\n",
      "1 5 6 8 10\n",
      "1 5 6 8 11\n",
      "1 5 6 9 10\n",
      "1 5 6 9 11\n",
      "1 5 7 8 10\n",
      "1 5 7 8 11\n",
      "1 5 7 9 10\n",
      "1 5 7 9 11\n",
      "2 4 6 8 10\n",
      "2 4 6 8 11\n",
      "2 4 6 9 10\n",
      "2 4 6 9 11\n",
      "2 4 7 8 10\n",
      "2 4 7 8 11\n",
      "2 4 7 9 10\n",
      "2 4 7 9 11\n",
      "2 5 6 8 10\n",
      "2 5 6 8 11\n",
      "2 5 6 9 10\n",
      "2 5 6 9 11\n",
      "2 5 7 8 10\n",
      "2 5 7 8 11\n",
      "2 5 7 9 10\n",
      "2 5 7 9 11\n",
      "3 4 6 8 10\n",
      "3 4 6 8 11\n",
      "3 4 6 9 10\n",
      "3 4 6 9 11\n",
      "3 4 7 8 10\n",
      "3 4 7 8 11\n",
      "3 4 7 9 10\n",
      "3 4 7 9 11\n",
      "3 5 6 8 10\n",
      "3 5 6 8 11\n",
      "3 5 6 9 10\n",
      "3 5 6 9 11\n",
      "3 5 7 8 10\n",
      "3 5 7 8 11\n",
      "3 5 7 9 10\n",
      "3 5 7 9 11\n",
      "48\n"
     ]
    }
   ],
   "source": [
    "a = [1, 2, 3]\n",
    "b = [4, 5]\n",
    "c = [6, 7]\n",
    "d = [8, 9]\n",
    "e = [10, 11]\n",
    "count = 0\n",
    "for x, y, z, w, p in [(x,y,z,w,p) for x in a for y in b for z in c for w in d for p in e]:\n",
    "    count = count + 1\n",
    "    print (x, y, z, w, p)\n",
    "\n",
    "print (count)"
   ]
  },
  {
   "cell_type": "code",
   "execution_count": 19,
   "metadata": {},
   "outputs": [
    {
     "name": "stdout",
     "output_type": "stream",
     "text": [
      "{'n_cluster': [4, 5, 6, 7, 8], 'tol': [5e-05, 0.0001, 0.00015]}\n"
     ]
    }
   ],
   "source": [
    "p_n_clusters = [4, 5, 6, 7, 8]\n",
    "p_tol = [0.5e-4, 1e-4, 1.5e-4]\n",
    "\n",
    "keys=['n_cluster', 'tol']\n",
    "val=[]\n",
    "val.append(p_n_clusters)\n",
    "val.append(p_tol)\n",
    "dic = dict(zip(keys, val))\n",
    "print (dic)"
   ]
  },
  {
   "cell_type": "code",
   "execution_count": 79,
   "metadata": {},
   "outputs": [
    {
     "name": "stdout",
     "output_type": "stream",
     "text": [
      "C 0.1\n",
      "C 1\n",
      "C 10\n",
      "M 1\n",
      "M 2\n"
     ]
    }
   ],
   "source": [
    "params = {'C': [.1, 1, 10], 'M': [1, 2]}\n",
    "\n",
    "for k, v in params.items():\n",
    "    for val in v:\n",
    "        print(k, val)\n"
   ]
  },
  {
   "cell_type": "code",
   "execution_count": 33,
   "metadata": {},
   "outputs": [
    {
     "name": "stdout",
     "output_type": "stream",
     "text": [
      "2\n",
      "2\n"
     ]
    }
   ],
   "source": [
    "vlist = []\n",
    "for val in range(len(dic.values()))\n",
    "    \n",
    "    print (dic.keys(), val)"
   ]
  },
  {
   "cell_type": "code",
   "execution_count": 81,
   "metadata": {},
   "outputs": [
    {
     "data": {
      "text/plain": [
       "3"
      ]
     },
     "execution_count": 81,
     "metadata": {},
     "output_type": "execute_result"
    }
   ],
   "source": [
    "a = [3,8,7,9,4,3,2]\n",
    "np.argmax(a)"
   ]
  },
  {
   "cell_type": "code",
   "execution_count": 80,
   "metadata": {
    "collapsed": true
   },
   "outputs": [],
   "source": [
    "import numpy as np"
   ]
  },
  {
   "cell_type": "code",
   "execution_count": null,
   "metadata": {
    "collapsed": true
   },
   "outputs": [],
   "source": []
  },
  {
   "cell_type": "code",
   "execution_count": null,
   "metadata": {
    "collapsed": true
   },
   "outputs": [],
   "source": []
  },
  {
   "cell_type": "code",
   "execution_count": null,
   "metadata": {
    "collapsed": true
   },
   "outputs": [],
   "source": []
  },
  {
   "cell_type": "code",
   "execution_count": null,
   "metadata": {
    "collapsed": true
   },
   "outputs": [],
   "source": []
  },
  {
   "cell_type": "code",
   "execution_count": null,
   "metadata": {
    "collapsed": true
   },
   "outputs": [],
   "source": []
  },
  {
   "cell_type": "code",
   "execution_count": null,
   "metadata": {
    "collapsed": true
   },
   "outputs": [],
   "source": []
  },
  {
   "cell_type": "code",
   "execution_count": null,
   "metadata": {
    "collapsed": true
   },
   "outputs": [],
   "source": []
  },
  {
   "cell_type": "code",
   "execution_count": null,
   "metadata": {
    "collapsed": true
   },
   "outputs": [],
   "source": []
  },
  {
   "cell_type": "code",
   "execution_count": null,
   "metadata": {
    "collapsed": true
   },
   "outputs": [],
   "source": []
  },
  {
   "cell_type": "code",
   "execution_count": null,
   "metadata": {
    "collapsed": true
   },
   "outputs": [],
   "source": []
  }
 ],
 "metadata": {
  "kernelspec": {
   "display_name": "Python 3",
   "language": "python",
   "name": "python3"
  },
  "language_info": {
   "codemirror_mode": {
    "name": "ipython",
    "version": 3
   },
   "file_extension": ".py",
   "mimetype": "text/x-python",
   "name": "python",
   "nbconvert_exporter": "python",
   "pygments_lexer": "ipython3",
   "version": "3.6.0"
  }
 },
 "nbformat": 4,
 "nbformat_minor": 2
}

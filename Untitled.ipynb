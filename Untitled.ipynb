{
 "cells": [
  {
   "cell_type": "code",
   "execution_count": null,
   "metadata": {
    "collapsed": true
   },
   "outputs": [],
   "source": [
    "#X_verify_drop_rows = np.where((pd.isnull(X_verify[:,i]) == True))[0]\n",
    "#if (X_verify_drop_rows.any()):\n",
    "#    X_verify = np.delete(X_verify, X_verify_drop_rows , axis=0)\n",
    "#    X_verify[:,i] = labelencoder_X.transform(X_verify[:, i])\n",
    "\n",
    "#X_verify_extract = X_verify[:,category_encoding_columns]\n",
    "#X_verify_extract_encoded = onehotencoder.fit_transform(X_verify_extract).toarray()\n",
    "#X_verify = np.delete(X_verify, category_encoding_columns , axis=1)\n",
    "\n",
    "#X_verify = np.c_[X_verify, X_verify_extract_encoded]\n",
    "\n",
    "#X_verify = np.delete(X_verify, drop_strategy_columns , axis=1)\n"
   ]
  },
  {
   "cell_type": "code",
   "execution_count": null,
   "metadata": {},
   "outputs": [],
   "source": [
    "# Importing the libraries\n",
    "import numpy as np\n",
    "import matplotlib.pyplot as plt\n",
    "import pandas as pd\n",
    "\n",
    "\n",
    "preprocessing_override = pd.read_csv('preprocessing_override.csv')\n",
    "\n",
    "dataset_X = pd.read_csv('train.csv')\n",
    "dataset_y = dataset_X['Survived']\n",
    "\n",
    "dataset_X_verify = pd.read_csv('test.csv')\n",
    "\n",
    "del dataset_X['Survived']\n",
    "del preprocessing_override['Survived']\n",
    "\n",
    "import preprocess_data as prd\n",
    "\n",
    "preprocessed_data = prd.preprocess_data(dataset_X, dataset_y, preprocessing_override, dataset_X_verify)\n",
    "\n",
    "print (preprocessed_data[\"X\"][0:3,:])"
   ]
  },
  {
   "cell_type": "code",
   "execution_count": null,
   "metadata": {
    "collapsed": true
   },
   "outputs": [],
   "source": [
    "X = preprocessed_data[\"X\"]\n",
    "y = preprocessed_data[\"y\"]"
   ]
  },
  {
   "cell_type": "code",
   "execution_count": null,
   "metadata": {
    "collapsed": true
   },
   "outputs": [],
   "source": [
    "from sklearn.model_selection import train_test_split\n",
    "X_train, X_test, y_train, y_test = train_test_split(X, y, test_size = 0.25, random_state = 0)"
   ]
  },
  {
   "cell_type": "code",
   "execution_count": null,
   "metadata": {},
   "outputs": [],
   "source": [
    "import best_logistic_regression as blr\n",
    "\n",
    "model_param = blr.best_model(X_train, X_test, y_train, y_test)\n",
    "\n",
    "print (model_param[\"cnf_matrix\"])\n",
    "print (model_param[\"class_report\"])"
   ]
  },
  {
   "cell_type": "code",
   "execution_count": null,
   "metadata": {},
   "outputs": [],
   "source": [
    "import best_knn as bknn\n",
    "\n",
    "model_param = bknn.best_model(X_train, X_test, y_train, y_test)\n",
    "\n",
    "print (model_param[\"cnf_matrix\"])\n",
    "print (model_param[\"class_report\"])"
   ]
  },
  {
   "cell_type": "code",
   "execution_count": null,
   "metadata": {},
   "outputs": [],
   "source": [
    "import best_svc as bsvc\n",
    "\n",
    "model_param = bsvc.best_model(X_train, X_test, y_train, y_test)\n",
    "\n",
    "print (model_param[\"cnf_matrix\"])\n",
    "print (model_param[\"class_report\"])"
   ]
  },
  {
   "cell_type": "code",
   "execution_count": null,
   "metadata": {},
   "outputs": [],
   "source": [
    "import best_svm as bsvm\n",
    "\n",
    "model_param = bsvm.best_model(X_train, X_test, y_train, y_test)\n",
    "\n",
    "print (model_param[\"cnf_matrix\"])\n",
    "print (model_param[\"class_report\"])"
   ]
  },
  {
   "cell_type": "code",
   "execution_count": null,
   "metadata": {},
   "outputs": [],
   "source": [
    "import best_nb as bnb\n",
    "\n",
    "model_param = bnb.best_model(X_train, X_test, y_train, y_test)\n",
    "\n",
    "print (model_param[\"cnf_matrix\"])\n",
    "print (model_param[\"class_report\"])"
   ]
  },
  {
   "cell_type": "code",
   "execution_count": null,
   "metadata": {},
   "outputs": [],
   "source": [
    "import best_dt as bdt\n",
    "\n",
    "model_param = bdt.best_model(X_train, X_test, y_train, y_test)\n",
    "\n",
    "print (model_param[\"cnf_matrix\"])\n",
    "print (model_param[\"class_report\"])"
   ]
  },
  {
   "cell_type": "code",
   "execution_count": null,
   "metadata": {},
   "outputs": [],
   "source": [
    "import best_rf as brf\n",
    "\n",
    "model_param = brf.best_model(X_train, X_test, y_train, y_test)\n",
    "\n",
    "print (model_param[\"cnf_matrix\"])\n",
    "print (model_param[\"class_report\"])"
   ]
  },
  {
   "cell_type": "code",
   "execution_count": null,
   "metadata": {
    "collapsed": true
   },
   "outputs": [],
   "source": [
    "tst = pd.read_csv('classification_models_list.csv')\n",
    "print (tst)"
   ]
  },
  {
   "cell_type": "code",
   "execution_count": null,
   "metadata": {
    "collapsed": true
   },
   "outputs": [],
   "source": [
    "from sklearn.metrics import confusion_matrix, classification_report\n",
    "import importlib\n",
    "model_to_evaluate = pd.read_csv('classification_models_list.csv')\n",
    "for i in range(len(model_to_evaluate.index)):\n",
    "#for i in range(1):\n",
    "    package = model_to_evaluate['package'][i]\n",
    "    name = model_to_evaluate[\"name\"][i]\n",
    "    if pd.notnull(model_to_evaluate['function'][i]):\n",
    "        function_name = model_to_evaluate['function'][i]\n",
    "    else:\n",
    "        function_name = ''\n",
    "\n",
    "    print ('Scores for classification model, ', model_to_evaluate['model_name'][i], ' are : ')\n",
    "    ic = getattr(__import__(package, fromlist=[name]), name)\n",
    "    classifier = eval('ic('+function_name+')')\n",
    "    classifier.fit(X_train, y_train)\n",
    "\n",
    "# Predicting the Test set results\n",
    "    y_pred = classifier.predict(X_test)\n",
    "\n",
    "# Making the Confusion Matrix\n",
    "    cm = confusion_matrix(y_test, y_pred)\n",
    "    cr = classification_report(y_test, y_pred)\n",
    "    print (cr)"
   ]
  },
  {
   "cell_type": "code",
   "execution_count": null,
   "metadata": {},
   "outputs": [],
   "source": [
    "import importlib\n",
    "model_to_evaluate = pd.read_csv('classification_models_list.csv')\n",
    "for i in range(len(model_to_evaluate.index)):\n",
    "    print ('Scores for classification model, ', model_to_evaluate['model_name'][i], ' are : ')\n",
    "    \n",
    "    brf = importlib.import_module(model_to_evaluate['file_name'][i])\n",
    "    print (brf)\n",
    "    \n",
    "    model_param = brf.best_model(X_train, X_test, y_train, y_test)\n",
    "    print (model_param[\"class_report\"])"
   ]
  },
  {
   "cell_type": "code",
   "execution_count": 2,
   "metadata": {},
   "outputs": [
    {
     "name": "stderr",
     "output_type": "stream",
     "text": [
      "c:\\users\\abhay\\environments\\mludemy\\lib\\site-packages\\sklearn\\utils\\validation.py:429: DataConversionWarning: Data with input dtype object was converted to float64 by StandardScaler.\n",
      "  warnings.warn(msg, _DataConversionWarning)\n"
     ]
    },
    {
     "name": "stdout",
     "output_type": "stream",
     "text": [
      "No Label Encoding of Y\n",
      "No Standard Scaling of Y\n",
      "Scores for classification model,  Logistic Regression  are : \n",
      "             precision    recall  f1-score   support\n",
      "\n",
      "          0       0.77      0.82      0.79       132\n",
      "          1       0.71      0.65      0.68        91\n",
      "\n",
      "avg / total       0.75      0.75      0.75       223\n",
      "\n",
      "Scores for classification model,  K-Nearest Neighbour  are : \n",
      "             precision    recall  f1-score   support\n",
      "\n",
      "          0       0.76      0.83      0.80       132\n",
      "          1       0.72      0.63      0.67        91\n",
      "\n",
      "avg / total       0.75      0.75      0.75       223\n",
      "\n",
      "Scores for classification model,  Linear Support Vector Model  are : \n",
      "             precision    recall  f1-score   support\n",
      "\n",
      "          0       0.78      0.83      0.81       132\n",
      "          1       0.73      0.66      0.69        91\n",
      "\n",
      "avg / total       0.76      0.76      0.76       223\n",
      "\n",
      "Scores for classification model,  Kernel Support Vector Model  are : \n",
      "             precision    recall  f1-score   support\n",
      "\n",
      "          0       0.81      0.85      0.83       132\n",
      "          1       0.76      0.70      0.73        91\n",
      "\n",
      "avg / total       0.79      0.79      0.79       223\n",
      "\n",
      "Scores for classification model,  Naïve Bayes  are : \n",
      "             precision    recall  f1-score   support\n",
      "\n",
      "          0       0.79      0.82      0.80       132\n",
      "          1       0.72      0.68      0.70        91\n",
      "\n",
      "avg / total       0.76      0.76      0.76       223\n",
      "\n",
      "Scores for classification model,  Decision Tree  are : \n",
      "             precision    recall  f1-score   support\n",
      "\n",
      "          0       0.78      0.82      0.80       132\n",
      "          1       0.72      0.67      0.69        91\n",
      "\n",
      "avg / total       0.76      0.76      0.76       223\n",
      "\n",
      "Scores for classification model,  Random Forest  are : \n",
      "             precision    recall  f1-score   support\n",
      "\n",
      "          0       0.78      0.84      0.81       132\n",
      "          1       0.74      0.65      0.69        91\n",
      "\n",
      "avg / total       0.76      0.76      0.76       223\n",
      "\n",
      "0\n"
     ]
    }
   ],
   "source": [
    "\n",
    "# Importing the libraries\n",
    "import numpy as np\n",
    "import matplotlib.pyplot as plt\n",
    "import pandas as pd\n",
    "\n",
    "\n",
    "preprocessing_override = pd.read_csv('preprocessing_override.csv')\n",
    "\n",
    "dataset_X = pd.read_csv('train.csv')\n",
    "dataset_y = dataset_X['Survived']\n",
    "\n",
    "dataset_X_verify = pd.read_csv('test.csv')\n",
    "\n",
    "del dataset_X['Survived']\n",
    "del preprocessing_override['Survived']\n",
    "\n",
    "import preprocess_data as prd\n",
    "\n",
    "preprocessed_data = prd.preprocess_data(dataset_X, dataset_y, preprocessing_override, dataset_X_verify)\n",
    "\n",
    "X = preprocessed_data[\"X\"]\n",
    "y = preprocessed_data[\"y\"]\n",
    "\n",
    "# import get_best_model as bfm\n",
    "import get_best_classification_model as bfm\n",
    "\n",
    "best_fit_model = bfm.get_best_model(X,y)\n",
    "print (best_fit_model)"
   ]
  },
  {
   "cell_type": "code",
   "execution_count": 17,
   "metadata": {},
   "outputs": [
    {
     "name": "stdout",
     "output_type": "stream",
     "text": [
      "[[1 2 3 4]\n",
      " [0 9 8 7]]\n"
     ]
    }
   ],
   "source": []
  },
  {
   "cell_type": "code",
   "execution_count": 16,
   "metadata": {},
   "outputs": [
    {
     "name": "stdout",
     "output_type": "stream",
     "text": [
      "9\n"
     ]
    }
   ],
   "source": []
  },
  {
   "cell_type": "code",
   "execution_count": null,
   "metadata": {
    "collapsed": true
   },
   "outputs": [],
   "source": []
  }
 ],
 "metadata": {
  "kernelspec": {
   "display_name": "Python 3",
   "language": "python",
   "name": "python3"
  },
  "language_info": {
   "codemirror_mode": {
    "name": "ipython",
    "version": 3
   },
   "file_extension": ".py",
   "mimetype": "text/x-python",
   "name": "python",
   "nbconvert_exporter": "python",
   "pygments_lexer": "ipython3",
   "version": "3.6.0"
  }
 },
 "nbformat": 4,
 "nbformat_minor": 2
}

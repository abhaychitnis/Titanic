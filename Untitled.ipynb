{
 "cells": [
  {
   "cell_type": "code",
   "execution_count": 1,
   "metadata": {
    "collapsed": true
   },
   "outputs": [],
   "source": [
    "#X_verify_drop_rows = np.where((pd.isnull(X_verify[:,i]) == True))[0]\n",
    "#if (X_verify_drop_rows.any()):\n",
    "#    X_verify = np.delete(X_verify, X_verify_drop_rows , axis=0)\n",
    "#    X_verify[:,i] = labelencoder_X.transform(X_verify[:, i])\n",
    "\n",
    "#X_verify_extract = X_verify[:,category_encoding_columns]\n",
    "#X_verify_extract_encoded = onehotencoder.fit_transform(X_verify_extract).toarray()\n",
    "#X_verify = np.delete(X_verify, category_encoding_columns , axis=1)\n",
    "\n",
    "#X_verify = np.c_[X_verify, X_verify_extract_encoded]\n",
    "\n",
    "#X_verify = np.delete(X_verify, drop_strategy_columns , axis=1)\n"
   ]
  },
  {
   "cell_type": "code",
   "execution_count": 2,
   "metadata": {},
   "outputs": [
    {
     "name": "stdout",
     "output_type": "stream",
     "text": [
      "[[-0.5896198553348734 0.4313502389523841 -0.4743258521037861\n",
      "  -0.5002397510893574 0.0 0.0 1.0 0.0 1.0 0.0 0.0 1.0]\n",
      " [0.644847987422268 0.4313502389523841 -0.4743258521037861\n",
      "  0.788946607905507 1.0 0.0 0.0 1.0 0.0 1.0 0.0 0.0]\n",
      " [-0.28100289464558803 -0.4751990812099552 -0.4743258521037861\n",
      "  -0.48664993466069395 0.0 0.0 1.0 1.0 0.0 0.0 0.0 1.0]]\n"
     ]
    },
    {
     "name": "stderr",
     "output_type": "stream",
     "text": [
      "c:\\users\\abhay\\environments\\mludemy\\lib\\site-packages\\sklearn\\utils\\validation.py:429: DataConversionWarning: Data with input dtype object was converted to float64 by StandardScaler.\n",
      "  warnings.warn(msg, _DataConversionWarning)\n"
     ]
    }
   ],
   "source": [
    "# Importing the libraries\n",
    "import numpy as np\n",
    "import matplotlib.pyplot as plt\n",
    "import pandas as pd\n",
    "\n",
    "\n",
    "preprocessing_override = pd.read_csv('preprocessing_override.csv')\n",
    "\n",
    "dataset_X = pd.read_csv('train.csv')\n",
    "dataset_y = dataset_X['Survived']\n",
    "\n",
    "dataset_X_verify = pd.read_csv('test.csv')\n",
    "\n",
    "del dataset_X['Survived']\n",
    "del preprocessing_override['Survived']\n",
    "\n",
    "import preprocess_data as prd\n",
    "\n",
    "preprocessed_data = prd.preprocess_data(dataset_X, dataset_y, preprocessing_override, dataset_X_verify)\n",
    "\n",
    "print (preprocessed_data[\"X\"][0:3,:])"
   ]
  },
  {
   "cell_type": "code",
   "execution_count": 3,
   "metadata": {
    "collapsed": true
   },
   "outputs": [],
   "source": [
    "X = preprocessed_data[\"X\"]\n",
    "y = preprocessed_data[\"y\"]"
   ]
  },
  {
   "cell_type": "code",
   "execution_count": 4,
   "metadata": {},
   "outputs": [],
   "source": [
    "from sklearn.model_selection import train_test_split\n",
    "X_train, X_test, y_train, y_test = train_test_split(X, y, test_size = 0.25, random_state = 0)"
   ]
  },
  {
   "cell_type": "code",
   "execution_count": 6,
   "metadata": {},
   "outputs": [
    {
     "name": "stdout",
     "output_type": "stream",
     "text": [
      "[[110  22]\n",
      " [ 31  60]]\n",
      "             precision    recall  f1-score   support\n",
      "\n",
      "          0       0.78      0.83      0.81       132\n",
      "          1       0.73      0.66      0.69        91\n",
      "\n",
      "avg / total       0.76      0.76      0.76       223\n",
      "\n"
     ]
    }
   ],
   "source": [
    "import best_logistic_regression as blr\n",
    "\n",
    "model_param = blr.best_model(X_train, X_test, y_train, y_test)\n",
    "\n",
    "print (model_param[\"cnf_matrix\"])\n",
    "print (model_param[\"class_report\"])"
   ]
  },
  {
   "cell_type": "code",
   "execution_count": 7,
   "metadata": {},
   "outputs": [
    {
     "name": "stdout",
     "output_type": "stream",
     "text": [
      "[[111  21]\n",
      " [ 33  58]]\n",
      "             precision    recall  f1-score   support\n",
      "\n",
      "          0       0.77      0.84      0.80       132\n",
      "          1       0.73      0.64      0.68        91\n",
      "\n",
      "avg / total       0.76      0.76      0.75       223\n",
      "\n"
     ]
    }
   ],
   "source": [
    "import best_knn as bknn\n",
    "\n",
    "model_param = bknn.best_model(X_train, X_test, y_train, y_test)\n",
    "\n",
    "print (model_param[\"cnf_matrix\"])\n",
    "print (model_param[\"class_report\"])"
   ]
  },
  {
   "cell_type": "code",
   "execution_count": 8,
   "metadata": {},
   "outputs": [
    {
     "name": "stdout",
     "output_type": "stream",
     "text": [
      "[[110  22]\n",
      " [ 31  60]]\n",
      "             precision    recall  f1-score   support\n",
      "\n",
      "          0       0.78      0.83      0.81       132\n",
      "          1       0.73      0.66      0.69        91\n",
      "\n",
      "avg / total       0.76      0.76      0.76       223\n",
      "\n"
     ]
    }
   ],
   "source": [
    "import best_svc as bsvc\n",
    "\n",
    "model_param = bsvc.best_model(X_train, X_test, y_train, y_test)\n",
    "\n",
    "print (model_param[\"cnf_matrix\"])\n",
    "print (model_param[\"class_report\"])"
   ]
  },
  {
   "cell_type": "code",
   "execution_count": 9,
   "metadata": {},
   "outputs": [
    {
     "name": "stdout",
     "output_type": "stream",
     "text": [
      "[[112  20]\n",
      " [ 27  64]]\n",
      "             precision    recall  f1-score   support\n",
      "\n",
      "          0       0.81      0.85      0.83       132\n",
      "          1       0.76      0.70      0.73        91\n",
      "\n",
      "avg / total       0.79      0.79      0.79       223\n",
      "\n"
     ]
    }
   ],
   "source": [
    "import best_svm as bsvm\n",
    "\n",
    "model_param = bsvm.best_model(X_train, X_test, y_train, y_test)\n",
    "\n",
    "print (model_param[\"cnf_matrix\"])\n",
    "print (model_param[\"class_report\"])"
   ]
  },
  {
   "cell_type": "code",
   "execution_count": 10,
   "metadata": {},
   "outputs": [
    {
     "name": "stdout",
     "output_type": "stream",
     "text": [
      "[[103  29]\n",
      " [ 25  66]]\n",
      "             precision    recall  f1-score   support\n",
      "\n",
      "          0       0.80      0.78      0.79       132\n",
      "          1       0.69      0.73      0.71        91\n",
      "\n",
      "avg / total       0.76      0.76      0.76       223\n",
      "\n"
     ]
    }
   ],
   "source": [
    "import best_nb as bnb\n",
    "\n",
    "model_param = bnb.best_model(X_train, X_test, y_train, y_test)\n",
    "\n",
    "print (model_param[\"cnf_matrix\"])\n",
    "print (model_param[\"class_report\"])"
   ]
  },
  {
   "cell_type": "code",
   "execution_count": 11,
   "metadata": {},
   "outputs": [
    {
     "name": "stdout",
     "output_type": "stream",
     "text": [
      "[[109  23]\n",
      " [ 29  62]]\n",
      "             precision    recall  f1-score   support\n",
      "\n",
      "          0       0.79      0.83      0.81       132\n",
      "          1       0.73      0.68      0.70        91\n",
      "\n",
      "avg / total       0.77      0.77      0.77       223\n",
      "\n"
     ]
    }
   ],
   "source": [
    "import best_dt as bdt\n",
    "\n",
    "model_param = bdt.best_model(X_train, X_test, y_train, y_test)\n",
    "\n",
    "print (model_param[\"cnf_matrix\"])\n",
    "print (model_param[\"class_report\"])"
   ]
  },
  {
   "cell_type": "code",
   "execution_count": 12,
   "metadata": {},
   "outputs": [
    {
     "name": "stdout",
     "output_type": "stream",
     "text": [
      "[[111  21]\n",
      " [ 32  59]]\n",
      "             precision    recall  f1-score   support\n",
      "\n",
      "          0       0.78      0.84      0.81       132\n",
      "          1       0.74      0.65      0.69        91\n",
      "\n",
      "avg / total       0.76      0.76      0.76       223\n",
      "\n"
     ]
    }
   ],
   "source": [
    "import best_rf as brf\n",
    "\n",
    "model_param = brf.best_model(X_train, X_test, y_train, y_test)\n",
    "\n",
    "print (model_param[\"cnf_matrix\"])\n",
    "print (model_param[\"class_report\"])"
   ]
  },
  {
   "cell_type": "code",
   "execution_count": null,
   "metadata": {},
   "outputs": [],
   "source": [
    "tst = pd.read_csv('classification_models_list.csv')\n",
    "print (tst)"
   ]
  },
  {
   "cell_type": "code",
   "execution_count": null,
   "metadata": {},
   "outputs": [],
   "source": [
    "from sklearn.metrics import confusion_matrix, classification_report\n",
    "import importlib\n",
    "model_to_evaluate = pd.read_csv('classification_models_list.csv')\n",
    "for i in range(len(model_to_evaluate.index)):\n",
    "#for i in range(1):\n",
    "    package = model_to_evaluate['package'][i]\n",
    "    name = model_to_evaluate[\"name\"][i]\n",
    "    if pd.notnull(model_to_evaluate['function'][i]):\n",
    "        function_name = model_to_evaluate['function'][i]\n",
    "    else:\n",
    "        function_name = ''\n",
    "\n",
    "    print ('Scores for classification model, ', model_to_evaluate['model_name'][i], ' are : ')\n",
    "    ic = getattr(__import__(package, fromlist=[name]), name)\n",
    "    classifier = eval('ic('+function_name+')')\n",
    "    classifier.fit(X_train, y_train)\n",
    "\n",
    "# Predicting the Test set results\n",
    "    y_pred = classifier.predict(X_test)\n",
    "\n",
    "# Making the Confusion Matrix\n",
    "    cm = confusion_matrix(y_test, y_pred)\n",
    "    cr = classification_report(y_test, y_pred)\n",
    "    print (cr)"
   ]
  },
  {
   "cell_type": "code",
   "execution_count": 13,
   "metadata": {},
   "outputs": [
    {
     "name": "stdout",
     "output_type": "stream",
     "text": [
      "Scores for classification model,  Logistic Regression  are : \n",
      "<module 'best_logistic_regression' from 'C:\\\\Users\\\\abhay\\\\environments\\\\mludemy\\\\MySource\\\\Kaggle\\\\Titanic\\\\best_logistic_regression.py'>\n",
      "             precision    recall  f1-score   support\n",
      "\n",
      "          0       0.78      0.83      0.81       132\n",
      "          1       0.73      0.66      0.69        91\n",
      "\n",
      "avg / total       0.76      0.76      0.76       223\n",
      "\n",
      "Scores for classification model,  K-Nearest Neighbour  are : \n",
      "<module 'best_knn' from 'C:\\\\Users\\\\abhay\\\\environments\\\\mludemy\\\\MySource\\\\Kaggle\\\\Titanic\\\\best_knn.py'>\n",
      "             precision    recall  f1-score   support\n",
      "\n",
      "          0       0.77      0.84      0.80       132\n",
      "          1       0.73      0.64      0.68        91\n",
      "\n",
      "avg / total       0.76      0.76      0.75       223\n",
      "\n",
      "Scores for classification model,  Linear Service Vector  are : \n",
      "<module 'best_svc' from 'C:\\\\Users\\\\abhay\\\\environments\\\\mludemy\\\\MySource\\\\Kaggle\\\\Titanic\\\\best_svc.py'>\n",
      "             precision    recall  f1-score   support\n",
      "\n",
      "          0       0.78      0.83      0.81       132\n",
      "          1       0.73      0.66      0.69        91\n",
      "\n",
      "avg / total       0.76      0.76      0.76       223\n",
      "\n",
      "Scores for classification model,  Kernel Service Vector  are : \n",
      "<module 'best_svm' from 'C:\\\\Users\\\\abhay\\\\environments\\\\mludemy\\\\MySource\\\\Kaggle\\\\Titanic\\\\best_svm.py'>\n",
      "             precision    recall  f1-score   support\n",
      "\n",
      "          0       0.81      0.85      0.83       132\n",
      "          1       0.76      0.70      0.73        91\n",
      "\n",
      "avg / total       0.79      0.79      0.79       223\n",
      "\n",
      "Scores for classification model,  Naïve Bayes  are : \n",
      "<module 'best_nb' from 'C:\\\\Users\\\\abhay\\\\environments\\\\mludemy\\\\MySource\\\\Kaggle\\\\Titanic\\\\best_nb.py'>\n",
      "             precision    recall  f1-score   support\n",
      "\n",
      "          0       0.80      0.78      0.79       132\n",
      "          1       0.69      0.73      0.71        91\n",
      "\n",
      "avg / total       0.76      0.76      0.76       223\n",
      "\n",
      "Scores for classification model,  Decision Tree  are : \n",
      "<module 'best_dt' from 'C:\\\\Users\\\\abhay\\\\environments\\\\mludemy\\\\MySource\\\\Kaggle\\\\Titanic\\\\best_dt.py'>\n",
      "             precision    recall  f1-score   support\n",
      "\n",
      "          0       0.79      0.83      0.81       132\n",
      "          1       0.73      0.68      0.70        91\n",
      "\n",
      "avg / total       0.77      0.77      0.77       223\n",
      "\n",
      "Scores for classification model,  Random Forest  are : \n",
      "<module 'best_rf' from 'C:\\\\Users\\\\abhay\\\\environments\\\\mludemy\\\\MySource\\\\Kaggle\\\\Titanic\\\\best_rf.py'>\n",
      "             precision    recall  f1-score   support\n",
      "\n",
      "          0       0.78      0.84      0.81       132\n",
      "          1       0.74      0.65      0.69        91\n",
      "\n",
      "avg / total       0.76      0.76      0.76       223\n",
      "\n"
     ]
    }
   ],
   "source": [
    "import importlib\n",
    "model_to_evaluate = pd.read_csv('classification_models_list.csv')\n",
    "for i in range(len(model_to_evaluate.index)):\n",
    "    print ('Scores for classification model, ', model_to_evaluate['model_name'][i], ' are : ')\n",
    "    \n",
    "    brf = importlib.import_module(model_to_evaluate['file_name'][i])\n",
    "    print (brf)\n",
    "    \n",
    "    model_param = brf.best_model(X_train, X_test, y_train, y_test)\n",
    "    print (model_param[\"class_report\"])"
   ]
  },
  {
   "cell_type": "code",
   "execution_count": null,
   "metadata": {
    "collapsed": true
   },
   "outputs": [],
   "source": []
  }
 ],
 "metadata": {
  "kernelspec": {
   "display_name": "Python 3",
   "language": "python",
   "name": "python3"
  },
  "language_info": {
   "codemirror_mode": {
    "name": "ipython",
    "version": 3
   },
   "file_extension": ".py",
   "mimetype": "text/x-python",
   "name": "python",
   "nbconvert_exporter": "python",
   "pygments_lexer": "ipython3",
   "version": "3.6.0"
  }
 },
 "nbformat": 4,
 "nbformat_minor": 2
}
